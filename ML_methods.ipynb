{
 "cells": [
  {
   "attachments": {},
   "cell_type": "markdown",
   "metadata": {},
   "source": [
    "# Calculation of different ML methods for prediction of Pulmonary hypertension (PH)"
   ]
  },
  {
   "attachments": {},
   "cell_type": "markdown",
   "metadata": {},
   "source": [
    "* Random forests\n",
    "* XGBoost"
   ]
  },
  {
   "cell_type": "code",
   "execution_count": 17,
   "metadata": {},
   "outputs": [],
   "source": [
    "import pandas as pd\n",
    "import numpy as np\n",
    "import matplotlib.pyplot as plt\n",
    "from sklearn.metrics import roc_auc_score, roc_curve, confusion_matrix, auc\n",
    "from sklearn.ensemble import RandomForestClassifier\n",
    "from sklearn.impute import KNNImputer\n",
    "import xgboost as xgb\n",
    "import random\n",
    "seed = 123\n",
    "random.seed = seed\n",
    "np.random.seed(seed)\n",
    "POSITIVE_LABEL = 'PH'\n",
    "NEGATIVE_LABEL = 'HC DC'\n",
    "SELECTED_COL = 'Recurrent_ID'"
   ]
  },
  {
   "cell_type": "code",
   "execution_count": 18,
   "metadata": {},
   "outputs": [],
   "source": [
    "filename = 'Bordag_et_al_2023_FFAlipid_biomarker_PH_Supplementary_data_1.xlsx'\n",
    "df_train_driftcorr = pd.read_excel(filename, sheet_name = \"train_Ravg_LOG_driftcorr\")\n",
    "df_val_driftcorr = pd.read_excel(filename, sheet_name = \"val_Ravg_LOG_driftcorr\")\n",
    "df_train = pd.read_excel(filename, sheet_name = \"train_Ravg_LOG\")\n",
    "df_val = pd.read_excel(filename, sheet_name = \"val_Ravg_LOG\")\n",
    "df_train_70 = pd.read_excel(filename, sheet_name=\"train70_Ravg_LOG\")\n",
    "df_val_30 = pd.read_excel(filename, sheet_name=\"val30_Ravg_LOG\")"
   ]
  },
  {
   "attachments": {},
   "cell_type": "markdown",
   "metadata": {},
   "source": [
    "## Functions"
   ]
  },
  {
   "cell_type": "code",
   "execution_count": 19,
   "metadata": {},
   "outputs": [],
   "source": [
    "# impute features with KNNImputer\n",
    "def get_imputed_dataset(df_train, df_val, col_imp):\n",
    "    imputed_columns = {}\n",
    "    df_train_new = df_train[col_imp].copy()\n",
    "    df_val_new = df_val[col_imp].copy()\n",
    "    df = pd.concat([df_train_new, df_val_new], ignore_index = True)\n",
    "\n",
    "    # all columns with nan\n",
    "    col_nan = df.isna().any()\n",
    "\n",
    "    for c in col_nan.index:\n",
    "        # imputation\n",
    "        if col_nan[c]:\n",
    "            # check if more than 30% missing\n",
    "            if df_train[c].isna().sum() < len(df_train[c])*0.3:  \n",
    "                imputed_columns[c] = df_train[c].isna().sum()         \n",
    "                imputer = KNNImputer(n_neighbors = 2, weights = \"uniform\")\n",
    "                new_c_train = imputer.fit(np.array(df_train[c]).reshape(-1, 1) )\n",
    "                new_c_val = imputer.transform(np.array(df_val[c]).reshape(-1, 1) )\n",
    "                new_c_train = imputer.transform(np.array(df_train[c]).reshape(-1, 1) )\n",
    "                df_val_new.loc[:, c] = new_c_val\n",
    "                df_train_new.loc[:, c] = new_c_train\n",
    "\n",
    "    return df_train_new, df_val_new, imputed_columns\n",
    "\n",
    "# normalize data\n",
    "def normalize(data, columns = []):\n",
    "    data_normalized = {}\n",
    "    dn_list = []\n",
    "    #print('n data columns',len(data.columns))\n",
    "    #print(data.columns)\n",
    "    for c in data.columns:\n",
    "        if (data[c] == data[c]).all():\n",
    "            if c == 'sex':\n",
    "                c_new = data[c] == 'female'\n",
    "            else:\n",
    "                c_new = (data[c].values - min(data[c].values))/(max(data[c].values) - min(data[c].values))\n",
    "            if columns:\n",
    "                if c in columns:\n",
    "                    dn_list.append(list(c_new))\n",
    "                    data_normalized[c]  = c_new\n",
    "            else:\n",
    "                dn_list.append(list(c_new))\n",
    "                data_normalized[c]  = c_new\n",
    "        else:\n",
    "            print('Nans in column:', c)\n",
    "    return data_normalized, dn_list\n",
    "\n",
    "def flat(list):\n",
    "    return [item for subl in list for item in subl]\n",
    "\n",
    "def get_Xy(data):\n",
    "    data_d = data.drop(columns=[SELECTED_COL, 'class', 'age', 'sex', 'BMI'])\n",
    "    _, X = normalize(data_d)\n",
    "    X = np.asarray(X).T\n",
    "    y = data['class'] == POSITIVE_LABEL\n",
    "    return X, y\n",
    "\n",
    "def calc_model(modelname, hyper_parameter):\n",
    "    # random forest\n",
    "    if modelname == 'rf':\n",
    "        no_trees = hyper_parameter[0]\n",
    "        depth = hyper_parameter[1]\n",
    "        model = RandomForestClassifier(max_depth = depth, random_state = seed, n_estimators = no_trees)\n",
    "    # extreme gradient boosting\n",
    "    elif modelname == 'xg':\n",
    "        learning_rate = hyper_parameter[0]\n",
    "        max_depth = hyper_parameter[1]\n",
    "        n_estimators = hyper_parameter[2]\n",
    "        model = xgb.XGBClassifier(objective  = 'reg:squarederror', colsample_bytree = 0.3, learning_rate = learning_rate, \n",
    "                max_depth = max_depth, alpha = 10, n_estimators = n_estimators, random_state = seed)\n",
    "    return model\n",
    "\n",
    "def get_hyperparameter(hyp_param, modelname):\n",
    "    if hyp_param:\n",
    "        return hyp_param\n",
    "    else:\n",
    "        if modelname == 'rf':\n",
    "            # no of trees and depth\n",
    "            return [[1001, 5]]\n",
    "        elif modelname == 'xg':\n",
    "            # eta and max depth and n_estimators\n",
    "            return [[0.1, 5, 10]]\n",
    "\n",
    "def get_age_level(age_col, level):\n",
    "    level_split = (max(age_col) - min(age_col))/level\n",
    "    age_level = []\n",
    "    \n",
    "    for a in age_col:\n",
    "        threshold = min(age_col)\n",
    "        level_count = 0\n",
    "        while a >= threshold:\n",
    "            threshold   += level_split\n",
    "            level_count   += 1\n",
    "        age_level.append(level_count)\n",
    "\n",
    "    return age_level\n",
    "\n",
    "def get_random_split(data, selected_col, split_no = 5):\n",
    "    split_ids = []\n",
    "    split_indices = []\n",
    "    at_least = 1\n",
    "    ## age\n",
    "    data['age_level'] = get_age_level(data['age'], 5)\n",
    "    df_drop = data.copy()\n",
    "    for split in range(split_no, 0, -1):\n",
    "        test_proportion = 1/split\n",
    "        # grouping by gender, label and age\n",
    "        grps = df_drop.groupby(['sex', 'class', 'age_level'], group_keys = False)\n",
    "        # selection by test_proportion and grouping\n",
    "        test = grps.apply(lambda x: x.sample(max(round(len(x)*test_proportion), at_least), random_state = seed))\n",
    "        split_ids.extend(test.index)\n",
    "        split_indices.append(test[selected_col])\n",
    "        df_drop = data.copy()\n",
    "        df_drop.drop(split_ids, inplace = True)\n",
    "\n",
    "    return split_indices\n",
    "\n",
    "def test_model(train_set, val_set, col, modelname, drift, hyper_param = [], title = 'Metabolites'):\n",
    "    data = train_set\n",
    "    \n",
    "    print('Results for ' + modelname + ' and ' + drift + ' for all ' + title)\n",
    "\n",
    "    selected_col = SELECTED_COL\n",
    "\n",
    "    threshold_cm = 0.5\n",
    "    tprs_val = []\n",
    "    fprs_val = []\n",
    "    aucs_val = []\n",
    "    tprs_test = []\n",
    "    fprs_test = []\n",
    "    aucs_test = []\n",
    "    cm_test = []\n",
    "    fi = []\n",
    "    feature_importances = pd.DataFrame()\n",
    "    interp_mean_fpr = np.linspace(0, 1, 100)\n",
    "    cm_val = []\n",
    "    y_hat_vals = []\n",
    "    y_vals = []\n",
    "    # parameters for AUROC\n",
    "    linesize = 0.25\n",
    "    w_ROC = 5.0\n",
    "    h_ROC = 5.0\n",
    "\n",
    "    col_train, col_val = get_color(modelname)\n",
    "    \n",
    "    # set hyperparameter\n",
    "    hyp = get_hyperparameter(hyper_param, modelname)\n",
    "    split = get_random_split(data.copy(), selected_col)\n",
    "\n",
    "    data = data[col]\n",
    "    val_set = val_set[col]\n",
    "    \n",
    "    # plotting\n",
    "    plt.rcParams['axes.linewidth'] = linesize\n",
    "    fig, ax = plt.subplots(1, figsize = (w_ROC, h_ROC))\n",
    "    # make grid in the background\n",
    "    ax.set_axisbelow(True)\n",
    "    ax.grid(which = 'major', linestyle = 'dashed', color = '#E6E6E6', dashes = (8, 8))\n",
    "    i = 1\n",
    "    feature_importance_df = pd.DataFrame({'Features': data.columns[5:len(train_set.columns)]})\n",
    "    # cross validation over all splits\n",
    "    for s in split:\n",
    "        # get train and test split\n",
    "        test_set = data[data[selected_col].isin(s)].copy()\n",
    "        train_set = data[data[selected_col].isin(list(set(flat(split)) - set(s)))].copy()\n",
    "\n",
    "\n",
    "        X_train, y_train = get_Xy(train_set)\n",
    "        X_test, y_test = get_Xy(test_set)\n",
    "        X_val, y_val = get_Xy(val_set) \n",
    "\n",
    "        #print('features x_train: ',len(X_train[0]))\n",
    "        \n",
    "        # train the model\n",
    "        model = calc_model(modelname, hyp)\n",
    "        model.fit(X_train, y_train)\n",
    "\n",
    "        # test the model\n",
    "        #print('features x_test: ',len(X_test[0]))\n",
    "        y_hat_test = model.predict_proba(X_test) \n",
    "        feature_importance_df[f'Importance_{i}'] = model.feature_importances_\n",
    "        i+=1\n",
    "        #fi.append(feature_importance_df)\n",
    "\n",
    "        fpr_test, tpr_test, threshold_test = roc_curve(y_test, y_hat_test[:, 1]) \n",
    "        auc_test = roc_auc_score(y_test, y_hat_test[:, 1]) \n",
    "\n",
    "        # Interpolation\n",
    "        interp_tpr = np.interp(interp_mean_fpr, fpr_test, tpr_test)\n",
    "        interp_tpr[0] = 0.0\n",
    "        tpr_test = interp_tpr\n",
    "        fpr_test = interp_mean_fpr\n",
    "        conf_m_test = confusion_matrix(y_test, y_hat_test[:, 1]>threshold_cm)\n",
    " \n",
    "        tprs_test.append(tpr_test)\n",
    "        fprs_test.append(fpr_test)\n",
    "        aucs_test.append(auc_test)\n",
    "        cm_test.append(conf_m_test)\n",
    "\n",
    "        # validation\n",
    "        y_hat_val = model.predict_proba(X_val) \n",
    "        y_hat_vals.append(y_hat_val[:, 1])\n",
    "        y_vals.append(y_val)\n",
    "        fpr_val, tpr_val, threshold = roc_curve(y_val, y_hat_val[:, 1]) \n",
    "        auc_val = roc_auc_score(y_val, y_hat_val[:, 1]) \n",
    "        conf_m_val = confusion_matrix(y_val, y_hat_val[:, 1]>threshold_cm)\n",
    "\n",
    "        # Interpolation of tpr and fpr for AUC\n",
    "        interp_tpr_val = np.interp(interp_mean_fpr, fpr_val, tpr_val)\n",
    "        interp_tpr_val[0] = 0.0\n",
    "        tpr_val = interp_tpr_val\n",
    "        fpr_val = interp_mean_fpr\n",
    "\n",
    "        tprs_val.append(tpr_val)\n",
    "        fprs_val.append(fpr_val)\n",
    "        aucs_val.append(auc_val)\n",
    "        cm_val.append(conf_m_val)\n",
    "\n",
    "    mean_tpr = np.mean(tprs_test, axis = 0)\n",
    "    ax.plot([0, 1], [0, 1], lw = 2, color = \"#D2D2D2\", alpha = 0.6)\n",
    "    mean_tpr[-1] = 1.0\n",
    "    mean_auc = auc(interp_mean_fpr, mean_tpr)\n",
    "    \n",
    "    #################################################\n",
    "    # plot train\n",
    "    ax.plot(\n",
    "        interp_mean_fpr, \n",
    "        mean_tpr, \n",
    "        color = col_train, \n",
    "        lw = 2, \n",
    "        alpha = 0.8, \n",
    "    )\n",
    "    # calculate 95% CI for plot\n",
    "    std_tpr_test = np.std(tprs_test, axis = 0)\n",
    "    tprs_upper_test = np.minimum(mean_tpr + 0.95*std_tpr_test, 1)\n",
    "    tprs_lower_test = np.maximum(mean_tpr - 0.95*std_tpr_test, 0)\n",
    "\n",
    "    ax.fill_between(\n",
    "        interp_mean_fpr, \n",
    "        tprs_lower_test, \n",
    "        tprs_upper_test, \n",
    "        color = col_train, \n",
    "        alpha = 0.2, \n",
    "    )\n",
    "\n",
    "    #######################################################\n",
    "    # plot  validation\n",
    " \n",
    "    mean_tpr_val = np.mean(tprs_val, axis = 0)\n",
    "    mean_tpr_val[-1] = 1.0\n",
    "    mean_auc_val = auc(interp_mean_fpr, mean_tpr_val)\n",
    "\n",
    "    ax.plot(\n",
    "        interp_mean_fpr, \n",
    "        mean_tpr_val, \n",
    "        color = col_val, \n",
    "        linestyle = 'dashed', \n",
    "        lw = 2, \n",
    "        alpha = 0.8, \n",
    "    )\n",
    "    \n",
    "    # Calculate 95% CI\n",
    "    std_tpr_val = np.std(tprs_val, axis = 0)\n",
    "    tprs_upper_val = np.minimum(mean_tpr_val + 0.95*std_tpr_val, 1)\n",
    "    tprs_lower_val = np.maximum(mean_tpr_val - 0.95*std_tpr_val, 0)\n",
    "    \n",
    "    ax.fill_between(\n",
    "        interp_mean_fpr, \n",
    "        tprs_lower_val, \n",
    "        tprs_upper_val, \n",
    "        color = col_val, \n",
    "        alpha = 0.2, \n",
    "    )\n",
    "    ##################################################\n",
    "\n",
    "    ax.set(\n",
    "        xlim = [ - 0.05, 1.05], \n",
    "        ylim = [ - 0.05, 1.05], \n",
    "    )\n",
    "\n",
    "    ax.text(0.95, 0.08, r\"train AUC %0.2f\" % (mean_auc), horizontalalignment = 'right')\n",
    "    ax.text(0.95, 0, r\"val AUC %0.2f\" % (mean_auc_val), horizontalalignment = 'right')\n",
    "    \n",
    "    #fig.set_dpi(600)\n",
    "\n",
    "    # statistics\n",
    "    model_type = modelname + drift + title\n",
    "    df_save = pd.DataFrame(index = [model_type])\n",
    "    # info about dataset:\n",
    "\n",
    "    sp, se, acc, bacc, df_save = get_statistical_values(cm_test, df_save, model_type, prefix = 'test')\n",
    "    print('Train Sensitivity: ', se, ' Specificity: ', sp, ' Accuracy: ', acc, ' Balanced Accuracy: ', bacc)\n",
    "    sp, se, acc, bacc, df_save = get_statistical_values(cm_val, df_save, model_type, prefix = 'val')\n",
    "    print('Validation Sensitivity: ', se, ' Specificity: ', sp, ' Accuracy: ', acc, ' Balanced Accuracy: ', bacc)\n",
    "    sp, se, acc, bacc, df_save = get_statistical_values(cm_test + cm_val, df_save, model_type, prefix = 'joint')\n",
    "    print('Joint Sensitivity: ', se, ' Specificity: ', sp, ' Accuracy: ', acc, ' Balanced Accuracy: ', bacc)\n",
    "    df = pd.DataFrame(data = {'# of features':[len(data.columns)],'# of samples in trainset':[len(data)],'# of samples in valset':[len(val_set)],'test_AUC':[mean_auc], 'val_AUC':[mean_auc_val], 'joint_AUC':[(mean_auc_val + mean_auc)/2]}, index = [model_type])\n",
    "    df_save = df_save.join(df)       \n",
    " \n",
    "    return df_save, feature_importance_df\n",
    "\n",
    "def get_color(modelname):\n",
    "    if modelname == 'rf':\n",
    "        return 'green', \"#0EF047\"\n",
    "    elif modelname == 'xg':\n",
    "        return '#0000ff', '#74AFF7'\n",
    "\n",
    "# Confusionmatrix\n",
    "# TP FN\n",
    "# FP TN\n",
    "# sensitivity tpr = TP/P\n",
    "# specificity tnr = TN/N\n",
    "# accuracy = (tp + tn)/(p + n)\n",
    "# balanced accuracy = (tpr + tnr)/2\n",
    "def get_statistical_values(cm_list, df_save, model_type, prefix = ''):\n",
    "    if prefix != '': prefix = prefix + '_'\n",
    "    cm = np.mean(cm_list, axis = 0)\n",
    "    sensitivity = cm[0, 0]/(cm[0, 0] + cm[1, 0])\n",
    "    specificity = cm[1, 1]/(cm[1, 1] + cm[0, 1])\n",
    "    accuracy = (cm[1, 1] + cm[0, 0])/(cm[1, 0] + cm[0, 1] + cm[1, 1] + cm[0, 0])\n",
    "    bacc = (sensitivity + specificity)/2\n",
    "\n",
    "    df = pd.DataFrame(data = {prefix + 'Sensitivity':[sensitivity], prefix + 'Specificity':[specificity], prefix + 'Accuracy':[accuracy], prefix + 'BACC':[bacc]}, index = [model_type])\n",
    "    df_save = df_save.join(df)\n",
    "\n",
    "    return specificity, sensitivity, accuracy, bacc, df_save\n",
    "\n",
    "# All metabolite columns for data that was drift corrected (OEME) and not drift corrected (OE)\n",
    "# add_col ... additional columns to metabolites\n",
    "def get_columns(df_drifcorr, df_drift, add_col):\n",
    "    col1 = df_drifcorr.columns[df_drifcorr.columns.str.contains('Metab_MVA_UVA.')]\n",
    "    col2 = col1[col1.str.contains('\\.LOG_QCRFSC_Peakarea_OEME')]\n",
    "    col_OEME = add_col + list(col2)\n",
    "    col3 = df_drift.columns[df_drift.columns.str.contains('Metab_MVA_UVA.')]\n",
    "    col4 = col3[col3.str.contains('\\.LOG_Peakarea_OE')]\n",
    "    col_OE = add_col + list(col4)\n",
    "    return col_OEME, col_OE\n"
   ]
  },
  {
   "cell_type": "code",
   "execution_count": 20,
   "metadata": {},
   "outputs": [],
   "source": [
    "# for saving data in file\n",
    "df_results = pd.DataFrame()\n",
    "\n",
    "# Constants\n",
    "no_drift = '(data without drift correction)'\n",
    "# additional columns to metabolites\n",
    "add_col = [SELECTED_COL, 'class', 'age', 'sex', 'BMI']\n",
    "\n",
    "# columns\n",
    "col_OEME, col_OE = get_columns(df_train_driftcorr, df_train, add_col)"
   ]
  },
  {
   "attachments": {},
   "cell_type": "markdown",
   "metadata": {},
   "source": [
    "### Imputation"
   ]
  },
  {
   "cell_type": "code",
   "execution_count": 21,
   "metadata": {},
   "outputs": [
    {
     "name": "stdout",
     "output_type": "stream",
     "text": [
      "len split by center trainset:  169\n",
      "len split by center valset:  64\n",
      "len trainset 70%:  163\n",
      "len valset 30%:  70\n",
      "feature len split by center trainset:  158\n",
      "feature len trainset 70%:  158\n"
     ]
    }
   ],
   "source": [
    "df_train_driftcorr_new, df_val_driftcorr_new, df_driftcorr_imp_col = get_imputed_dataset(df_train_driftcorr, df_val_driftcorr, col_OEME)\n",
    "df_train_new, df_val_new, df_driftcorr_imp_col = get_imputed_dataset(df_train, df_val, col_OE)\n",
    "df_train_new_70, df_val_new_30, df_driftcorr_imp_col = get_imputed_dataset(df_train_70,df_val_30, col_OE)\n",
    "\n",
    "# len of datasets\n",
    "print('len split by center trainset: ',len(df_train_driftcorr_new))\n",
    "print('len split by center valset: ',len(df_val_driftcorr_new))\n",
    "print('len trainset 70%: ',len(df_train_new_70))\n",
    "print('len valset 30%: ',len(df_val_new_30))\n",
    "# of features:\n",
    "print('feature len split by center trainset: ',len(df_train_driftcorr_new.columns))\n",
    "print('feature len trainset 70%: ',len(df_train_new_70.columns))"
   ]
  },
  {
   "attachments": {},
   "cell_type": "markdown",
   "metadata": {},
   "source": [
    "## Calculations and Results(ML Part)"
   ]
  },
  {
   "attachments": {},
   "cell_type": "markdown",
   "metadata": {},
   "source": [
    "### calculate random forest with data that was not drift corrected"
   ]
  },
  {
   "cell_type": "code",
   "execution_count": 22,
   "metadata": {},
   "outputs": [],
   "source": [
    "modelname = 'rf'\n",
    "drift = 'drift correction'\n",
    "hyper_param = [3001, 300]"
   ]
  },
  {
   "cell_type": "code",
   "execution_count": 23,
   "metadata": {},
   "outputs": [
    {
     "name": "stdout",
     "output_type": "stream",
     "text": [
      "All metabolites:  153\n",
      "Results for rf and drift correction for all center split \n",
      "Train Sensitivity:  0.9404761904761905  Specificity:  0.8117647058823529  Accuracy:  0.8757396449704143  Balanced Accuracy:  0.8761204481792717\n",
      "Validation Sensitivity:  0.2165605095541401  Specificity:  0.9938650306748466  Accuracy:  0.6124999999999999  Balanced Accuracy:  0.6052127701144934\n",
      "Joint Sensitivity:  0.46887966804979253  Specificity:  0.9314516129032259  Accuracy:  0.703476482617587  Balanced Accuracy:  0.7001656404765092\n"
     ]
    },
    {
     "data": {
      "image/png": "[encoded data removed]",
      "text/plain": [
       "<Figure size 360x360 with 1 Axes>"
      ]
     },
     "metadata": {
      "needs_background": "light"
     },
     "output_type": "display_data"
    }
   ],
   "source": [
    "# split by center\n",
    "print('All metabolites: ', len(col_OEME)-5)\n",
    "df_save, fi = test_model(df_train_driftcorr_new, df_val_driftcorr_new, col_OEME, title = 'center split ', modelname = modelname, drift = drift, hyper_param = hyper_param)\n",
    "df_results = pd.concat([df_results, df_save])"
   ]
  },
  {
   "attachments": {},
   "cell_type": "markdown",
   "metadata": {},
   "source": [
    "### calculate random forest with not drift corrected data"
   ]
  },
  {
   "cell_type": "code",
   "execution_count": 24,
   "metadata": {},
   "outputs": [],
   "source": [
    "drift = 'drift'"
   ]
  },
  {
   "cell_type": "code",
   "execution_count": 25,
   "metadata": {},
   "outputs": [
    {
     "name": "stdout",
     "output_type": "stream",
     "text": [
      "Results for rf and drift for all center split (data without drift correction)\n"
     ]
    },
    {
     "name": "stdout",
     "output_type": "stream",
     "text": [
      "Train Sensitivity:  0.9459459459459459  Specificity:  0.7368421052631579  Accuracy:  0.8284023668639054  Balanced Accuracy:  0.8413940256045519\n",
      "Validation Sensitivity:  0.24038461538461536  Specificity:  0.9537037037037037  Accuracy:  0.721875  Balanced Accuracy:  0.5970441595441596\n",
      "Joint Sensitivity:  0.5337078651685393  Specificity:  0.887459807073955  Accuracy:  0.7586912065439673  Balanced Accuracy:  0.7105838361212471\n"
     ]
    },
    {
     "data": {
      "image/png": "[encoded data removed]",
      "text/plain": [
       "<Figure size 360x360 with 1 Axes>"
      ]
     },
     "metadata": {
      "needs_background": "light"
     },
     "output_type": "display_data"
    }
   ],
   "source": [
    "# split by center\n",
    "df_save, _ = test_model(df_train_new, df_val_new, col_OE, title = 'center split '+ no_drift, modelname = modelname, drift = drift, hyper_param = hyper_param)\n",
    "df_results = pd.concat([df_results, df_save])"
   ]
  },
  {
   "cell_type": "code",
   "execution_count": 26,
   "metadata": {},
   "outputs": [
    {
     "name": "stdout",
     "output_type": "stream",
     "text": [
      "Results for rf and drift for all 70:30 split (data without drift correction)\n"
     ]
    },
    {
     "name": "stdout",
     "output_type": "stream",
     "text": [
      "Train Sensitivity:  0.8666666666666667  Specificity:  0.8252427184466019  Accuracy:  0.8404907975460122  Balanced Accuracy:  0.8459546925566344\n",
      "Validation Sensitivity:  0.8133333333333332  Specificity:  0.8099999999999999  Accuracy:  0.8114285714285714  Balanced Accuracy:  0.8116666666666665\n",
      "Joint Sensitivity:  0.8285714285714285  Specificity:  0.8151815181518153  Accuracy:  0.820662768031189  Balanced Accuracy:  0.821876473361622\n"
     ]
    },
    {
     "data": {
      "image/png": "[encoded data removed]",
      "text/plain": [
       "<Figure size 360x360 with 1 Axes>"
      ]
     },
     "metadata": {
      "needs_background": "light"
     },
     "output_type": "display_data"
    }
   ],
   "source": [
    "# 70:30 split\n",
    "df_save, _ = test_model(df_train_new_70, df_val_new_30, col_OE, title='70:30 split '+no_drift, modelname=modelname, drift=drift, hyper_param=hyper_param)\n",
    "df_results = pd.concat([df_results,df_save])"
   ]
  },
  {
   "attachments": {},
   "cell_type": "markdown",
   "metadata": {},
   "source": [
    "### calculate XGB with drift corrected data"
   ]
  },
  {
   "cell_type": "code",
   "execution_count": 27,
   "metadata": {},
   "outputs": [],
   "source": [
    "hyper_param = [0.01, 10, 3001]\n",
    "modelname = 'xg'\n",
    "drift = 'drift correction'"
   ]
  },
  {
   "cell_type": "code",
   "execution_count": 28,
   "metadata": {},
   "outputs": [
    {
     "name": "stdout",
     "output_type": "stream",
     "text": [
      "Results for xg and drift correction for all center split \n"
     ]
    },
    {
     "name": "stdout",
     "output_type": "stream",
     "text": [
      "Train Sensitivity:  0.8958333333333334  Specificity:  0.8767123287671232  Accuracy:  0.8875739644970415  Balanced Accuracy:  0.8862728310502284\n",
      "Validation Sensitivity:  0.19230769230769232  Specificity:  1.0  Accuracy:  0.540625  Balanced Accuracy:  0.5961538461538461\n",
      "Joint Sensitivity:  0.4352517985611511  Specificity:  0.9573459715639812  Accuracy:  0.6605316973415133  Balanced Accuracy:  0.6962988850625661\n"
     ]
    },
    {
     "data": {
      "image/png": "[encoded data removed]",
      "text/plain": [
       "<Figure size 360x360 with 1 Axes>"
      ]
     },
     "metadata": {
      "needs_background": "light"
     },
     "output_type": "display_data"
    }
   ],
   "source": [
    "# all suitable metabolites\n",
    "df_save,_ = test_model(df_train_driftcorr_new, df_val_driftcorr_new, col_OEME, title = 'center split ' , modelname = modelname, drift = drift, hyper_param = hyper_param)\n",
    "df_results = pd.concat([df_results, df_save])"
   ]
  },
  {
   "attachments": {},
   "cell_type": "markdown",
   "metadata": {},
   "source": [
    "### calculate XGB with data that was not drift corrected"
   ]
  },
  {
   "cell_type": "code",
   "execution_count": 29,
   "metadata": {},
   "outputs": [],
   "source": [
    "drift = 'drift'"
   ]
  },
  {
   "cell_type": "code",
   "execution_count": 30,
   "metadata": {},
   "outputs": [
    {
     "name": "stdout",
     "output_type": "stream",
     "text": [
      "Results for xg and drift for all center split (data without drift correction)\n",
      "Train Sensitivity:  0.9240506329113924  Specificity:  0.7555555555555555  Accuracy:  0.834319526627219  Balanced Accuracy:  0.839803094233474\n",
      "Validation Sensitivity:  0.2631578947368421  Specificity:  0.9757281553398058  Accuracy:  0.721875  Balanced Accuracy:  0.6194430250383239\n",
      "Joint Sensitivity:  0.533678756476684  Specificity:  0.9087837837837838  Accuracy:  0.7607361963190186  Balanced Accuracy:  0.7212312701302339\n"
     ]
    },
    {
     "data": {
      "image/png": "[encoded data removed]",
      "text/plain": [
       "<Figure size 360x360 with 1 Axes>"
      ]
     },
     "metadata": {
      "needs_background": "light"
     },
     "output_type": "display_data"
    }
   ],
   "source": [
    "# all suitable metabolites\n",
    "df_save,_ = test_model(df_train_new, df_val_new, col_OE, title = 'center split '  + no_drift, modelname = modelname, drift = drift, hyper_param = hyper_param)\n",
    "df_results = pd.concat([df_results, df_save])"
   ]
  },
  {
   "cell_type": "markdown",
   "metadata": {},
   "source": [
    "## 70:30 balanced split"
   ]
  },
  {
   "cell_type": "code",
   "execution_count": 31,
   "metadata": {},
   "outputs": [
    {
     "name": "stdout",
     "output_type": "stream",
     "text": [
      "Results for xg and drift for all 70:30 split (data without drift correction)\n",
      "Train Sensitivity:  0.9019607843137255  Specificity:  0.7857142857142857  Accuracy:  0.8220858895705522  Balanced Accuracy:  0.8438375350140056\n",
      "Validation Sensitivity:  0.8256880733944953  Specificity:  0.7095435684647303  Accuracy:  0.7457142857142858  Balanced Accuracy:  0.7676158209296129\n",
      "Joint Sensitivity:  0.85  Specificity:  0.7337110481586403  Accuracy:  0.769980506822612  Balanced Accuracy:  0.7918555240793201\n"
     ]
    },
    {
     "data": {
      "image/png": "[encoded data removed]",
      "text/plain": [
       "<Figure size 360x360 with 1 Axes>"
      ]
     },
     "metadata": {
      "needs_background": "light"
     },
     "output_type": "display_data"
    }
   ],
   "source": [
    "# 70:30 split\n",
    "df_save, _ = test_model(df_train_new_70, df_val_new_30, col_OE, title='70:30 split '+ no_drift, modelname=modelname, drift=drift, hyper_param=hyper_param)\n",
    "df_results = pd.concat([df_results,df_save])"
   ]
  },
  {
   "attachments": {},
   "cell_type": "markdown",
   "metadata": {},
   "source": [
    "### All results of the calculations"
   ]
  },
  {
   "cell_type": "code",
   "execution_count": 16,
   "metadata": {},
   "outputs": [
    {
     "data": {
      "text/html": [
       "<div>\n",
       "<style scoped>\n",
       "    .dataframe tbody tr th:only-of-type {\n",
       "        vertical-align: middle;\n",
       "    }\n",
       "\n",
       "    .dataframe tbody tr th {\n",
       "        vertical-align: top;\n",
       "    }\n",
       "\n",
       "    .dataframe thead th {\n",
       "        text-align: right;\n",
       "    }\n",
       "</style>\n",
       "<table border=\"1\" class=\"dataframe\">\n",
       "  <thead>\n",
       "    <tr style=\"text-align: right;\">\n",
       "      <th></th>\n",
       "      <th>test_Sensitivity</th>\n",
       "      <th>test_Specificity</th>\n",
       "      <th>test_Accuracy</th>\n",
       "      <th>test_BACC</th>\n",
       "      <th>val_Sensitivity</th>\n",
       "      <th>val_Specificity</th>\n",
       "      <th>val_Accuracy</th>\n",
       "      <th>val_BACC</th>\n",
       "      <th>joint_Sensitivity</th>\n",
       "      <th>joint_Specificity</th>\n",
       "      <th>joint_Accuracy</th>\n",
       "      <th>joint_BACC</th>\n",
       "      <th># of features</th>\n",
       "      <th># of samples in trainset</th>\n",
       "      <th># of samples in valset</th>\n",
       "      <th>test_AUC</th>\n",
       "      <th>val_AUC</th>\n",
       "      <th>joint_AUC</th>\n",
       "    </tr>\n",
       "  </thead>\n",
       "  <tbody>\n",
       "    <tr>\n",
       "      <th>rfdrift correctioncenter split</th>\n",
       "      <td>0.940476</td>\n",
       "      <td>0.811765</td>\n",
       "      <td>0.875740</td>\n",
       "      <td>0.876120</td>\n",
       "      <td>0.216561</td>\n",
       "      <td>0.993865</td>\n",
       "      <td>0.612500</td>\n",
       "      <td>0.605213</td>\n",
       "      <td>0.468880</td>\n",
       "      <td>0.931452</td>\n",
       "      <td>0.703476</td>\n",
       "      <td>0.700166</td>\n",
       "      <td>158</td>\n",
       "      <td>169</td>\n",
       "      <td>64</td>\n",
       "      <td>0.951264</td>\n",
       "      <td>0.822539</td>\n",
       "      <td>0.886901</td>\n",
       "    </tr>\n",
       "    <tr>\n",
       "      <th>rfdriftcenter split (data without drift correction)</th>\n",
       "      <td>0.945946</td>\n",
       "      <td>0.736842</td>\n",
       "      <td>0.828402</td>\n",
       "      <td>0.841394</td>\n",
       "      <td>0.240385</td>\n",
       "      <td>0.953704</td>\n",
       "      <td>0.721875</td>\n",
       "      <td>0.597044</td>\n",
       "      <td>0.533708</td>\n",
       "      <td>0.887460</td>\n",
       "      <td>0.758691</td>\n",
       "      <td>0.710584</td>\n",
       "      <td>158</td>\n",
       "      <td>169</td>\n",
       "      <td>64</td>\n",
       "      <td>0.948730</td>\n",
       "      <td>0.834943</td>\n",
       "      <td>0.891837</td>\n",
       "    </tr>\n",
       "    <tr>\n",
       "      <th>rfdrift70:30 split (data without drift correction)</th>\n",
       "      <td>0.866667</td>\n",
       "      <td>0.825243</td>\n",
       "      <td>0.840491</td>\n",
       "      <td>0.845955</td>\n",
       "      <td>0.813333</td>\n",
       "      <td>0.810000</td>\n",
       "      <td>0.811429</td>\n",
       "      <td>0.811667</td>\n",
       "      <td>0.828571</td>\n",
       "      <td>0.815182</td>\n",
       "      <td>0.820663</td>\n",
       "      <td>0.821876</td>\n",
       "      <td>158</td>\n",
       "      <td>163</td>\n",
       "      <td>70</td>\n",
       "      <td>0.920811</td>\n",
       "      <td>0.894758</td>\n",
       "      <td>0.907785</td>\n",
       "    </tr>\n",
       "    <tr>\n",
       "      <th>xgdrift correctioncenter split</th>\n",
       "      <td>0.895833</td>\n",
       "      <td>0.876712</td>\n",
       "      <td>0.887574</td>\n",
       "      <td>0.886273</td>\n",
       "      <td>0.192308</td>\n",
       "      <td>1.000000</td>\n",
       "      <td>0.540625</td>\n",
       "      <td>0.596154</td>\n",
       "      <td>0.435252</td>\n",
       "      <td>0.957346</td>\n",
       "      <td>0.660532</td>\n",
       "      <td>0.696299</td>\n",
       "      <td>158</td>\n",
       "      <td>169</td>\n",
       "      <td>64</td>\n",
       "      <td>0.943429</td>\n",
       "      <td>0.825749</td>\n",
       "      <td>0.884589</td>\n",
       "    </tr>\n",
       "    <tr>\n",
       "      <th>xgdriftcenter split (data without drift correction)</th>\n",
       "      <td>0.924051</td>\n",
       "      <td>0.755556</td>\n",
       "      <td>0.834320</td>\n",
       "      <td>0.839803</td>\n",
       "      <td>0.263158</td>\n",
       "      <td>0.975728</td>\n",
       "      <td>0.721875</td>\n",
       "      <td>0.619443</td>\n",
       "      <td>0.533679</td>\n",
       "      <td>0.908784</td>\n",
       "      <td>0.760736</td>\n",
       "      <td>0.721231</td>\n",
       "      <td>158</td>\n",
       "      <td>169</td>\n",
       "      <td>64</td>\n",
       "      <td>0.925373</td>\n",
       "      <td>0.877352</td>\n",
       "      <td>0.901363</td>\n",
       "    </tr>\n",
       "    <tr>\n",
       "      <th>xgdrift70:30 split (data without drift correction)</th>\n",
       "      <td>0.901961</td>\n",
       "      <td>0.785714</td>\n",
       "      <td>0.822086</td>\n",
       "      <td>0.843838</td>\n",
       "      <td>0.825688</td>\n",
       "      <td>0.709544</td>\n",
       "      <td>0.745714</td>\n",
       "      <td>0.767616</td>\n",
       "      <td>0.850000</td>\n",
       "      <td>0.733711</td>\n",
       "      <td>0.769981</td>\n",
       "      <td>0.791856</td>\n",
       "      <td>158</td>\n",
       "      <td>163</td>\n",
       "      <td>70</td>\n",
       "      <td>0.888080</td>\n",
       "      <td>0.868368</td>\n",
       "      <td>0.878224</td>\n",
       "    </tr>\n",
       "  </tbody>\n",
       "</table>\n",
       "</div>"
      ],
      "text/plain": [
       "                                                    test_Sensitivity  \\\n",
       "rfdrift correctioncenter split                              0.940476   \n",
       "rfdriftcenter split (data without drift correct...          0.945946   \n",
       "rfdrift70:30 split (data without drift correction)          0.866667   \n",
       "xgdrift correctioncenter split                              0.895833   \n",
       "xgdriftcenter split (data without drift correct...          0.924051   \n",
       "xgdrift70:30 split (data without drift correction)          0.901961   \n",
       "\n",
       "                                                    test_Specificity  \\\n",
       "rfdrift correctioncenter split                              0.811765   \n",
       "rfdriftcenter split (data without drift correct...          0.736842   \n",
       "rfdrift70:30 split (data without drift correction)          0.825243   \n",
       "xgdrift correctioncenter split                              0.876712   \n",
       "xgdriftcenter split (data without drift correct...          0.755556   \n",
       "xgdrift70:30 split (data without drift correction)          0.785714   \n",
       "\n",
       "                                                    test_Accuracy  test_BACC  \\\n",
       "rfdrift correctioncenter split                           0.875740   0.876120   \n",
       "rfdriftcenter split (data without drift correct...       0.828402   0.841394   \n",
       "rfdrift70:30 split (data without drift correction)       0.840491   0.845955   \n",
       "xgdrift correctioncenter split                           0.887574   0.886273   \n",
       "xgdriftcenter split (data without drift correct...       0.834320   0.839803   \n",
       "xgdrift70:30 split (data without drift correction)       0.822086   0.843838   \n",
       "\n",
       "                                                    val_Sensitivity  \\\n",
       "rfdrift correctioncenter split                             0.216561   \n",
       "rfdriftcenter split (data without drift correct...         0.240385   \n",
       "rfdrift70:30 split (data without drift correction)         0.813333   \n",
       "xgdrift correctioncenter split                             0.192308   \n",
       "xgdriftcenter split (data without drift correct...         0.263158   \n",
       "xgdrift70:30 split (data without drift correction)         0.825688   \n",
       "\n",
       "                                                    val_Specificity  \\\n",
       "rfdrift correctioncenter split                             0.993865   \n",
       "rfdriftcenter split (data without drift correct...         0.953704   \n",
       "rfdrift70:30 split (data without drift correction)         0.810000   \n",
       "xgdrift correctioncenter split                             1.000000   \n",
       "xgdriftcenter split (data without drift correct...         0.975728   \n",
       "xgdrift70:30 split (data without drift correction)         0.709544   \n",
       "\n",
       "                                                    val_Accuracy  val_BACC  \\\n",
       "rfdrift correctioncenter split                          0.612500  0.605213   \n",
       "rfdriftcenter split (data without drift correct...      0.721875  0.597044   \n",
       "rfdrift70:30 split (data without drift correction)      0.811429  0.811667   \n",
       "xgdrift correctioncenter split                          0.540625  0.596154   \n",
       "xgdriftcenter split (data without drift correct...      0.721875  0.619443   \n",
       "xgdrift70:30 split (data without drift correction)      0.745714  0.767616   \n",
       "\n",
       "                                                    joint_Sensitivity  \\\n",
       "rfdrift correctioncenter split                               0.468880   \n",
       "rfdriftcenter split (data without drift correct...           0.533708   \n",
       "rfdrift70:30 split (data without drift correction)           0.828571   \n",
       "xgdrift correctioncenter split                               0.435252   \n",
       "xgdriftcenter split (data without drift correct...           0.533679   \n",
       "xgdrift70:30 split (data without drift correction)           0.850000   \n",
       "\n",
       "                                                    joint_Specificity  \\\n",
       "rfdrift correctioncenter split                               0.931452   \n",
       "rfdriftcenter split (data without drift correct...           0.887460   \n",
       "rfdrift70:30 split (data without drift correction)           0.815182   \n",
       "xgdrift correctioncenter split                               0.957346   \n",
       "xgdriftcenter split (data without drift correct...           0.908784   \n",
       "xgdrift70:30 split (data without drift correction)           0.733711   \n",
       "\n",
       "                                                    joint_Accuracy  \\\n",
       "rfdrift correctioncenter split                            0.703476   \n",
       "rfdriftcenter split (data without drift correct...        0.758691   \n",
       "rfdrift70:30 split (data without drift correction)        0.820663   \n",
       "xgdrift correctioncenter split                            0.660532   \n",
       "xgdriftcenter split (data without drift correct...        0.760736   \n",
       "xgdrift70:30 split (data without drift correction)        0.769981   \n",
       "\n",
       "                                                    joint_BACC  # of features  \\\n",
       "rfdrift correctioncenter split                        0.700166            158   \n",
       "rfdriftcenter split (data without drift correct...    0.710584            158   \n",
       "rfdrift70:30 split (data without drift correction)    0.821876            158   \n",
       "xgdrift correctioncenter split                        0.696299            158   \n",
       "xgdriftcenter split (data without drift correct...    0.721231            158   \n",
       "xgdrift70:30 split (data without drift correction)    0.791856            158   \n",
       "\n",
       "                                                    # of samples in trainset  \\\n",
       "rfdrift correctioncenter split                                           169   \n",
       "rfdriftcenter split (data without drift correct...                       169   \n",
       "rfdrift70:30 split (data without drift correction)                       163   \n",
       "xgdrift correctioncenter split                                           169   \n",
       "xgdriftcenter split (data without drift correct...                       169   \n",
       "xgdrift70:30 split (data without drift correction)                       163   \n",
       "\n",
       "                                                    # of samples in valset  \\\n",
       "rfdrift correctioncenter split                                          64   \n",
       "rfdriftcenter split (data without drift correct...                      64   \n",
       "rfdrift70:30 split (data without drift correction)                      70   \n",
       "xgdrift correctioncenter split                                          64   \n",
       "xgdriftcenter split (data without drift correct...                      64   \n",
       "xgdrift70:30 split (data without drift correction)                      70   \n",
       "\n",
       "                                                    test_AUC   val_AUC  \\\n",
       "rfdrift correctioncenter split                      0.951264  0.822539   \n",
       "rfdriftcenter split (data without drift correct...  0.948730  0.834943   \n",
       "rfdrift70:30 split (data without drift correction)  0.920811  0.894758   \n",
       "xgdrift correctioncenter split                      0.943429  0.825749   \n",
       "xgdriftcenter split (data without drift correct...  0.925373  0.877352   \n",
       "xgdrift70:30 split (data without drift correction)  0.888080  0.868368   \n",
       "\n",
       "                                                    joint_AUC  \n",
       "rfdrift correctioncenter split                       0.886901  \n",
       "rfdriftcenter split (data without drift correct...   0.891837  \n",
       "rfdrift70:30 split (data without drift correction)   0.907785  \n",
       "xgdrift correctioncenter split                       0.884589  \n",
       "xgdriftcenter split (data without drift correct...   0.901363  \n",
       "xgdrift70:30 split (data without drift correction)   0.878224  "
      ]
     },
     "execution_count": 16,
     "metadata": {},
     "output_type": "execute_result"
    }
   ],
   "source": [
    "df_results"
   ]
  },
  {
   "cell_type": "code",
   "execution_count": 17,
   "metadata": {},
   "outputs": [],
   "source": [
    "df_results.to_excel('ML_statistics.xlsx')"
   ]
  }
 ],
 "metadata": {
  "interpreter": {
   "hash": "39b8b812b2638f2d6a26a2758572a564c287bdda9855d496033dec76fd0f1556"
  },
  "kernelspec": {
   "display_name": "Python 3.9.12 ('venv': venv)",
   "language": "python",
   "name": "python3"
  },
  "language_info": {
   "codemirror_mode": {
    "name": "ipython",
    "version": 3
   },
   "file_extension": ".py",
   "mimetype": "text/x-python",
   "name": "python",
   "nbconvert_exporter": "python",
   "pygments_lexer": "ipython3",
   "version": "3.9.5"
  },
  "orig_nbformat": 4
 },
 "nbformat": 4,
 "nbformat_minor": 2
}
